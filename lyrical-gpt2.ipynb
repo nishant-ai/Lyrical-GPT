{
 "cells": [
  {
   "cell_type": "code",
   "execution_count": 1,
   "id": "2811e27f-8dbd-478c-9fc9-6185128e9586",
   "metadata": {
    "id": "2811e27f-8dbd-478c-9fc9-6185128e9586"
   },
   "outputs": [],
   "source": [
    "import pandas as pd\n",
    "import numpy as np\n",
    "import torch\n",
    "from torch.utils.data import Dataset, DataLoader\n",
    "from transformers import GPT2Tokenizer, GPT2LMHeadModel, AdamW, get_linear_schedule_with_warmup\n",
    "from tqdm import tqdm\n",
    "import os\n",
    "from sklearn.model_selection import train_test_split"
   ]
  },
  {
   "cell_type": "code",
   "execution_count": 2,
   "id": "FfrGXScZyUpm",
   "metadata": {
    "colab": {
     "base_uri": "https://localhost:8080/"
    },
    "id": "FfrGXScZyUpm",
    "outputId": "a3a1c153-e054-443b-c0db-789c10c00be5"
   },
   "outputs": [
    {
     "name": "stdout",
     "output_type": "stream",
     "text": [
      "Using device: cuda\n"
     ]
    }
   ],
   "source": [
    "torch.manual_seed(42)\n",
    "np.random.seed(42)\n",
    "\n",
    "device = torch.device(\"cuda\" if torch.cuda.is_available() else \"cpu\")\n",
    "print(f\"Using device: {device}\")"
   ]
  },
  {
   "cell_type": "code",
   "execution_count": 6,
   "id": "ab1cbe07-94d6-4bdb-8d82-1d60506d625f",
   "metadata": {
    "id": "ab1cbe07-94d6-4bdb-8d82-1d60506d625f"
   },
   "outputs": [],
   "source": [
    "df = pd.read_csv('combined_artists_tokenized.csv')"
   ]
  },
  {
   "cell_type": "code",
   "execution_count": 7,
   "id": "klUe0ro01m6H",
   "metadata": {
    "colab": {
     "base_uri": "https://localhost:8080/",
     "height": 0
    },
    "collapsed": true,
    "id": "klUe0ro01m6H",
    "jupyter": {
     "outputs_hidden": true
    },
    "outputId": "c0d5c367-247c-4b8a-8ed8-f5f1bc0eda4a"
   },
   "outputs": [
    {
     "data": {
      "application/vnd.google.colaboratory.intrinsic+json": {
       "summary": "{\n  \"name\": \"df\",\n  \"rows\": 6027,\n  \"fields\": [\n    {\n      \"column\": \"Artist\",\n      \"properties\": {\n        \"dtype\": \"category\",\n        \"num_unique_values\": 21,\n        \"samples\": [\n          \"Dua Lipa\",\n          \"Rihanna\",\n          \"Selena Gomez\"\n        ],\n        \"semantic_type\": \"\",\n        \"description\": \"\"\n      }\n    },\n    {\n      \"column\": \"Title\",\n      \"properties\": {\n        \"dtype\": \"string\",\n        \"num_unique_values\": 5832,\n        \"samples\": [\n          \"Four Door Aventador\",\n          \"My Fault\",\n          \"Born This Way (Michael Woods Remix)\"\n        ],\n        \"semantic_type\": \"\",\n        \"description\": \"\"\n      }\n    },\n    {\n      \"column\": \"Album\",\n      \"properties\": {\n        \"dtype\": \"category\",\n        \"num_unique_values\": 569,\n        \"samples\": [\n          \"Confessions of a Shopaholic (Original Soundtrack)\",\n          \"Take Care\",\n          \"BE2*\"\n        ],\n        \"semantic_type\": \"\",\n        \"description\": \"\"\n      }\n    },\n    {\n      \"column\": \"Year\",\n      \"properties\": {\n        \"dtype\": \"number\",\n        \"std\": 53.72545884087953,\n        \"min\": 1.0,\n        \"max\": 2022.0,\n        \"num_unique_values\": 33,\n        \"samples\": [\n          1.0,\n          2006.0,\n          2003.0\n        ],\n        \"semantic_type\": \"\",\n        \"description\": \"\"\n      }\n    },\n    {\n      \"column\": \"Date\",\n      \"properties\": {\n        \"dtype\": \"category\",\n        \"num_unique_values\": 1504,\n        \"samples\": [\n          \"2016-07-14\",\n          \"2011-04-01\",\n          \"2013-09-06\"\n        ],\n        \"semantic_type\": \"\",\n        \"description\": \"\"\n      }\n    },\n    {\n      \"column\": \"Lyric\",\n      \"properties\": {\n        \"dtype\": \"string\",\n        \"num_unique_values\": 5640,\n        \"samples\": [\n          \"black black black black black black black black black jesus is the new black jesus is the new black jesus is the new black jesus is the new black ow   i grew up in new york city since i was born on broadway baby moved downtown when i was just nineteen to start a new life on the new york scene  pre there's no way i could be stopped was taking my best shot i had a better plan there's no way i could be stopped was coming for your spot i met a better man   amen on the runway dressed in his best amen fashion on the runway work it black jesus amen on the runway dressed in his best amen fashion on the runway work it black jesus   dancing in my revelation underground pop civilization concrete poetry to feed my mind old symbolism was left behind  pre there's no way i could be stopped was taking my best shot i had a better plan there's no way i could be stopped was coming for your spot i met a better man   amen on the runway dressed in his best amen fashion on the runway work it black jesus amen on the runway dressed in his best amen fashion on the runway work it black jesus   put it on amen fashion celebrate oohooh a new compassion put it on amen fashion celebrate oohooh style your passion put it on amen fashion celebrate oohooh a new compassion put it on amen fashion celebrate oohooh wear out your vision black jesus black jesus black jesus jesus is the new black ow   amen on the runway dressed in his best amen fashion on the runway work it black jesus amen on the runway dressed in his best amen fashion on the runway work it black jesus amen on the runway dressed in his best amen fashion on the runway work it black jesus amen on the runway dressed in his best amen fashion on the runway work it black jesus\",\n          \"feeling kinky lip syncing to too hort's freaky tales biatch having creepy visions of whiskey drinking and envisioning sneaking into where christie brinkley dwells i know this is risky thinking but i wanna stick her like she's decals but when murdering females better pay attention to these details or you could be derailed better wear at least three layers of clothing or be in jail if you get scratched because your dna'll be all up under her fingernails man he hears you i don't think he cares he gives a fuck even his pinky swears three personalities burstin' out of me please beware her tv blares can't hear the creaking stairs she's unaware in no underwear she's completely bare turns around and screams i remember distinctly i said i'm here to do sink repairs chop her up put her body parts in front of steven avery's trailer and leave 'em there   but hey man i was framed i know what this looks like officers please just give me one minute i think i can explain i ain't murdered nobody i know these words are so nutty but i'm just here to entertain how come your shirt is so bloody there's a missing person so what he's got nothin' to do with me i'm almost certain i was framed   woke up it was dawn musta knew somethin' was wrong think i'm becomin' a monster 'cause of the drugs that i'm on donald duck's on there's a tonka truck in the yard but dog how the fuck is ivanka trump in the trunk of my car gotta get to the bottom of it to try to solve it must go above and beyond 'cause it's incumbent upon me plus i feel somewhat responsible for the dumb little blonde girl that motherfuckin' baton twirler that got dumped in the pond second murder with no recollection of it collectin' newspaper articles cuttin' out sections from it memory's too fucked to remember destructive temper cut my public defender's jugular then stuck him up in a blender another dismembered toddler discovered this winter probably 'cause the disassembled body was covered up in the snow since the month of november oddly i'm wanted for questioning them son of a bitches probably just wanna pin this on me   but hey man i was framed i know what this looks like officers please just give me one minute i think i can explain i ain't murdered nobody i know these words are so nutty but i'm just here to entertain how come your shirt is so bloody there's a missing person so what he's got nothin' to do with me i'm almost certain i was framed   still on the loose they spotted me inside mcdonald's tuesday in a toronto blue jays cap lookin' like your college roommate with rihanna lupe saddam hussein bobby boucher or was it cool j the cops is on a goose chase just escaped from the state pen for edited eight women who hate men don't make it no weirder i'm naked when i break in your basement under your baby's play pen i lay in wait adjacent facin' the door remainin' patient while stayin' complacent blatant sexual implications are continuin' to get thrown insinuations are placed in little riddles and poems left on your pillow in hopes that when you get home you'll get the hint ho i'm in your window but it never occurred to me i could describe a murder scene in a and be charged with first degree 'cause it just happened to match up perfectly with the massacre or the burger king burglary no officer you see    i was framed i know what this looks like officers please just give me one minute i think i can explain i ain't murdered nobody i know these words are so nutty but i'm just here to entertain how come your shirt is so bloody there's a missing person so what he's got nothin' to do with me i'm almost certain i was framed\",\n          \"if we take this bird in with its broken leg we could nurse it she said come inside for a little lie down with me and if you fall asleep it wouldn't be the worst thing but when i wake up and your makeup is on my shoulder and tell me if i lie down would you stay now let me hold ya ohh  but if i kiss you will your mouth read this truth darling how i miss you strawberry's taste how lips do and its not complete yet mustn't get our feet wet cause that leads to regret diving into soon and i'll owe it all to you oh my little bird  my little bird  if we take a walk out in the morning dew we could lay down so i'm next you come inside for a little home made tea and if you fall asleep then at least your next to me and if i wake up say its late love get back to sleep i'm covered by nature and i'm safe now underneath this oak tree with you beside me  but if i kiss you will your mouth read this truth darling how i miss you strawberry's taste how lips do and its not complete yet mustn't get our feet wet cause that leads to regret diving into soon  and i'll owe it all to you oh my little bird  my little bird  my little bird  my little bird  and of all this thing i'm sure of i'm not quite certain of your love you made me scream but then i made you cry when i left that little bird with its broken leg to die  but if i kiss you will your mouth read this truth darling how i miss you strawberry's taste how lips do and its not complete yet mustn't get our feet wet cause that leads to regret diving into soon but i'll owe it all to you oh my little bird  my little bird whoa oh oh oh whoaa  my little bird  my little bird  your my little bird\"\n        ],\n        \"semantic_type\": \"\",\n        \"description\": \"\"\n      }\n    },\n    {\n      \"column\": \"Tokenized_Lyrics\",\n      \"properties\": {\n        \"dtype\": \"string\",\n        \"num_unique_values\": 5640,\n        \"samples\": [\n          \"[259, 8846, 803, 23612, 23612, 14166, 14166, 10846, 308, 8126, 1312, 588, 340, 5210, 220, 220, 534, 1842, 318, 2147, 1312, 460, 470, 1907, 460, 470, 3993, 351, 262, 582, 508, 5391, 82, 616, 18340, 220, 662, 220, 1312, 1101, 287, 262, 14043, 351, 21379, 290, 618, 1312, 760, 345, 821, 2354, 20188, 259, 6, 788, 1312, 1839, 470, 1309, 345, 287, 705, 25587, 340, 338, 257, 1327, 1204, 351, 1842, 287, 262, 995, 290, 1312, 1101, 257, 1327, 2576, 14442, 502, 338, 588, 36615, 319, 25286, 7278, 220, 220, 345, 1053, 1392, 502, 11263, 1521, 1312, 1312, 588, 340, 5210, 1312, 1312, 588, 340, 5210, 1312, 1312, 588, 340, 5210, 345, 1053, 1392, 502, 11263, 1521, 1312, 1312, 588, 340, 5210, 1312, 1312, 588, 340, 5210, 1312, 1312, 588, 340, 5210, 220, 220, 1839, 470, 467, 1231, 616, 4259, 9975, 340, 338, 257, 1310, 1165, 5210, 1552, 2576, 46142, 607, 10953, 351, 8465, 3951, 290, 673, 460, 470, 651, 1576, 220, 662, 220, 1312, 1101, 287, 262, 14043, 351, 21379, 290, 618, 1312, 760, 345, 821, 2354, 42028, 788, 1312, 1839, 470, 1309, 345, 287, 705, 25587, 340, 338, 257, 1327, 1204, 351, 1842, 287, 262, 995, 290, 1312, 1101, 257, 1327, 2576, 14442, 502, 338, 588, 3892, 3101, 49507, 220, 220, 345, 1053, 1392, 502, 11263, 1521, 1312, 345, 1392, 502, 1312, 588, 340, 5210, 1312, 1312, 588, 340, 5210, 1312, 1312, 588, 340, 5210, 345, 1053, 1392, 502, 11263, 1521, 1312, 11752, 10194, 1312, 588, 340, 5210, 1312, 1312, 588, 340, 5210, 1312, 1312, 588, 340, 5210, 220, 220, 1312, 1101, 22441, 290, 1312, 760, 340, 836, 470, 760, 1521, 345, 18869, 6611, 340, 761, 257, 582, 508, 7832, 340, 5210, 7832, 340, 5210, 7832, 340, 5210, 5156, 7832, 340, 5210, 1312, 1101, 22441, 290, 1312, 760, 340, 836, 470, 760, 1521, 345, 18869, 6611, 340, 761, 257, 582, 508, 7832, 340, 5210, 7832, 340, 5210, 7832, 340, 5210, 5156, 7832, 340, 5210, 220, 14608, 1312, 1101, 22441, 290, 1312, 760, 340, 836, 470, 760, 1521, 345, 18869, 6611, 340, 761, 257, 582, 508, 7832, 340, 5210, 7832, 340, 5210, 7832, 340, 5210, 5156, 7832, 340, 5210, 318, 340, 2728, 345, 836, 470, 1612, 340, 393, 780, 1312, 836, 470, 1254, 340, 4556, 340, 338, 5210, 1312, 1101, 22441, 290, 1312, 760, 340, 836, 470, 760, 1521, 345, 18869, 6611, 340, 761, 257, 582, 508, 7832, 340, 5210, 7832, 340, 5210, 7832, 340, 5210, 10846, 308, 8126, 318, 340, 2728, 345, 836, 470, 1612, 340, 393, 780, 1312, 836, 470, 1254, 340, 4556, 340, 338, 5210, 220, 220, 345, 1392, 10194, 10194, 345, 423, 1392, 502, 11752, 11263, 1521, 345, 1392, 502, 11263, 1521, 1312, 1312, 588, 340, 5210, 1312, 1312, 588, 340, 5210, 1312, 1312, 588, 340, 5210, 345, 1392, 502, 11263, 1521, 1312, 11752, 1219, 10194, 1312, 588, 340, 5210, 1312, 1312, 588, 340, 5210, 1312, 11752, 11263, 1521, 1312, 588, 340, 5210, 345, 1392, 502, 11263, 1521, 1312, 10194, 10194, 345, 423, 1392, 502, 1312, 588, 340, 5210, 1312, 1312, 588, 340, 5210, 1312, 11752, 11263, 1521, 1312, 588, 340, 5210, 345, 1392, 502, 11263, 1521, 1312, 1312, 588, 340, 5210, 1312, 1312, 588, 340, 5210, 1312, 1312, 588, 340, 5210]\",\n          \"[2902, 866, 866, 866, 866, 866, 866, 866, 866, 866, 8788, 4724, 508, 338, 736, 736, 757, 36135, 338, 736, 1560, 257, 1545, 783, 2506, 989, 284, 262, 9280, 4314, 284, 262, 9280, 4314, 284, 262, 9280, 4314, 783, 2506, 989, 284, 262, 9280, 4314, 23036, 2245, 279, 1228, 1689, 640, 220, 220, 1282, 994, 1310, 479, 1638, 444, 319, 616, 14779, 4724, 508, 338, 736, 351, 257, 4508, 649, 4095, 290, 1312, 836, 470, 1612, 4095, 355, 287, 257, 649, 1339, 286, 1200, 18605, 27364, 14227, 29042, 36225, 36225, 645, 18572, 20461, 64, 338, 1392, 257, 4508, 649, 6131, 286, 14958, 644, 2073, 714, 1312, 5457, 466, 284, 787, 7838, 1312, 1760, 12615, 319, 2279, 475, 1310, 6510, 290, 326, 338, 407, 257, 8303, 379, 285, 40302, 326, 338, 655, 257, 23094, 1312, 1101, 655, 30731, 1312, 467, 257, 1310, 1643, 7165, 3360, 1312, 651, 257, 1310, 1643, 503, 286, 1630, 351, 616, 9529, 22009, 922, 5770, 19550, 466, 257, 1310, 10649, 19396, 866, 3638, 534, 23932, 290, 655, 48089, 510, 262, 3641, 286, 262, 9280, 4314, 588, 256, 79, 329, 616, 28773, 456, 2305, 290, 340, 338, 3608, 611, 345, 1309, 530, 467, 8168, 338, 8066, 760, 508, 1549, 3285, 340, 1577, 257, 1310, 745, 313, 79, 1025, 340, 338, 8788, 267, 2840, 616, 22927, 655, 26684, 290, 2506, 655, 2982, 345, 1309, 530, 18344, 220, 220, 783, 1312, 1101, 8066, 787, 345, 9280, 340, 338, 534, 2863, 10194, 2933, 13279, 326, 840, 508, 2840, 1312, 1612, 2576, 2576, 2576, 2576, 2576, 345, 760, 345, 821, 616, 995, 23036, 783, 4425, 340, 29042, 36225, 36225, 655, 4425, 340, 29042, 36225, 36225, 467, 7165, 29042, 36225, 36225, 11752, 5156, 29042, 993, 11752, 5156, 5156, 29042, 993, 220, 1281, 880, 340, 338, 1216, 2567, 290, 340, 338, 616, 1110, 655, 284, 2151, 477, 262, 835, 705, 47163, 37437, 323, 3863, 705, 47163, 285, 3204, 1312, 836, 470, 760, 644, 1110, 790, 1110, 338, 655, 257, 9912, 4630, 45763, 6, 319, 262, 39042, 1254, 259, 6, 17855, 20780, 7357, 1309, 262, 1353, 866, 290, 616, 4190, 6611, 1312, 836, 470, 760, 810, 1312, 1101, 467, 259, 6, 477, 1312, 760, 318, 618, 1312, 651, 612, 2130, 338, 8066, 3638, 616, 1767, 220, 220, 705, 1416, 1904, 502, 2051, 1312, 836, 470, 1612, 284, 2128, 588, 257, 29757, 475, 1312, 1101, 1254, 259, 6, 655, 257, 1310, 15033, 503, 422, 670, 714, 345, 10862, 502, 287, 262, 11384, 290, 2834, 616, 4190, 27591, 319, 502, 3863, 50162, 469, 616, 2951, 503, 10194, 783, 644, 338, 534, 1438, 2576, 644, 338, 534, 1051, 582, 345, 1276, 307, 510, 503, 534, 2000, 288, 260, 29042, 993, 6099, 42762, 7770, 1312, 1101, 655, 1949, 259, 6, 284, 7379, 521, 783, 1312, 1101, 220, 220, 783, 1312, 1101, 8066, 787, 345, 9280, 340, 338, 534, 2863, 10194, 2933, 13279, 326, 840, 508, 2840, 1312, 1612, 2576, 2576, 2576, 2576, 2576, 345, 760, 345, 821, 616, 995, 23036, 783, 4425, 340, 29042, 36225, 36225, 655, 4425, 340, 29042, 36225, 36225, 467, 7165, 29042, 36225, 36225, 11752, 5156, 29042, 993, 11752, 5156, 5156, 29042, 993, 220, 1281, 880, 340, 338, 256, 3322, 290, 1312, 1101, 8970, 510, 1312, 1101, 287, 7356, 290, 1312, 836, 470, 760, 644, 3022, 484, 910, 1312, 373, 1057, 35073, 6, 8530, 77, 4335, 866, 262, 4675, 8196, 259, 6, 29042, 36225, 993, 534, 7522, 1312, 1101, 7926, 1312, 836, 470, 3505, 477, 1312, 760, 318, 428, 881, 1312, 1101, 407, 6717, 484, 531, 3613, 340, 2933, 356, 1392, 345, 319, 9154, 28946, 259, 6, 379, 281, 1468, 10846, 284, 3638, 616, 1767, 220, 220, 783, 428, 318, 262, 636, 810, 262, 4095, 9457, 866, 340, 3011, 1103, 8157, 645, 530, 1838, 257, 2128, 2279, 3073, 588, 340, 338, 807, 10591, 783, 262, 4405, 2058, 736, 290, 7288, 4425, 2405, 783, 11495, 736, 284, 3950, 804, 340, 338, 275, 22746, 27406, 345, 4488, 502, 510, 284, 3344, 1312, 1101, 257, 7334, 582, 442, 549, 19496, 549, 19496, 549, 19496, 549, 19496, 549, 19496, 549, 19496, 38393, 1312, 836, 470, 423, 597, 3951, 284, 467, 826, 994, 523, 442, 33670, 378, 1616, 38393, 3214, 292, 644, 3214, 292, 644, 5552, 534, 1364, 6701, 787, 534, 826, 530, 19354, 644, 2042, 4813, 2330, 4813, 29494, 4813, 3735, 4813, 7331, 4813, 1402, 4813, 1312, 1101, 4585, 477, 4813, 2506, 989, 284, 262, 9280, 4314, 340, 338, 534, 2863, 329, 257, 1310, 19661, 393, 8530, 13170, 42140, 6, 340, 338, 262, 1622, 655, 467, 29042, 36225, 993, 523, 598, 30412, 259, 6, 220, 220, 783, 1312, 1101, 8066, 787, 345, 9280, 340, 338, 534, 2863, 10194, 2933, 13279, 326, 840, 508, 2840, 1312, 1612, 2576, 2576, 2576, 2576, 2576, 345, 760, 345, 821, 616, 995, 23036, 783, 4425, 340, 29042, 36225, 36225, 655, 4425, 340, 29042, 36225, 36225, 467, 7165, 29042, 36225, 36225, 11752, 5156, 29042, 993, 11752, 5156, 5156, 29042, 993, 220, 220, 3638, 616, 1767, 3638, 616, 1767, 11752, 2933, 655, 3638, 616, 1767, 1312, 1612, 2576, 655, 3638, 616, 1767]\",\n          \"[361, 356, 1011, 428, 6512, 287, 351, 663, 5445, 1232, 356, 714, 15849, 340, 673, 531, 1282, 2641, 329, 257, 1310, 6486, 866, 351, 502, 290, 611, 345, 2121, 16039, 340, 3636, 470, 307, 262, 5290, 1517, 475, 618, 1312, 7765, 510, 290, 534, 16029, 318, 319, 616, 8163, 290, 1560, 502, 611, 1312, 6486, 866, 561, 345, 2652, 783, 1309, 502, 1745, 21349, 11752, 71, 220, 475, 611, 1312, 9245, 345, 481, 534, 5422, 1100, 428, 3872, 40003, 703, 1312, 2051, 345, 41236, 338, 6938, 703, 11914, 466, 290, 663, 407, 1844, 1865, 1276, 77, 470, 651, 674, 3625, 9583, 2728, 326, 5983, 284, 13721, 23186, 656, 2582, 290, 1312, 1183, 19059, 340, 477, 284, 345, 11752, 616, 1310, 6512, 220, 616, 1310, 6512, 220, 611, 356, 1011, 257, 2513, 503, 287, 262, 3329, 390, 86, 356, 714, 3830, 866, 523, 1312, 1101, 1306, 345, 1282, 2641, 329, 257, 1310, 1363, 925, 8887, 290, 611, 345, 2121, 16039, 788, 379, 1551, 534, 1306, 284, 502, 290, 611, 1312, 7765, 510, 910, 663, 2739, 1842, 651, 736, 284, 3993, 1312, 1101, 5017, 416, 3450, 290, 1312, 1101, 3338, 783, 14638, 428, 26210, 5509, 351, 345, 13970, 502, 220, 475, 611, 1312, 9245, 345, 481, 534, 5422, 1100, 428, 3872, 40003, 703, 1312, 2051, 345, 41236, 338, 6938, 703, 11914, 466, 290, 663, 407, 1844, 1865, 1276, 77, 470, 651, 674, 3625, 9583, 2728, 326, 5983, 284, 13721, 23186, 656, 2582, 220, 290, 1312, 1183, 19059, 340, 477, 284, 345, 11752, 616, 1310, 6512, 220, 616, 1310, 6512, 220, 616, 1310, 6512, 220, 616, 1310, 6512, 220, 290, 286, 477, 428, 1517, 1312, 1101, 1654, 286, 1312, 1101, 407, 2407, 1728, 286, 534, 1842, 345, 925, 502, 8196, 475, 788, 1312, 925, 345, 3960, 618, 1312, 1364, 326, 1310, 6512, 351, 663, 5445, 1232, 284, 4656, 220, 475, 611, 1312, 9245, 345, 481, 534, 5422, 1100, 428, 3872, 40003, 703, 1312, 2051, 345, 41236, 338, 6938, 703, 11914, 466, 290, 663, 407, 1844, 1865, 1276, 77, 470, 651, 674, 3625, 9583, 2728, 326, 5983, 284, 13721, 23186, 656, 2582, 475, 1312, 1183, 19059, 340, 477, 284, 345, 11752, 616, 1310, 6512, 220, 616, 1310, 6512, 508, 64, 11752, 11752, 11752, 508, 7252, 220, 616, 1310, 6512, 220, 616, 1310, 6512, 220, 534, 616, 1310, 6512]\"\n        ],\n        \"semantic_type\": \"\",\n        \"description\": \"\"\n      }\n    }\n  ]\n}",
       "type": "dataframe",
       "variable_name": "df"
      },
      "text/html": [
       "\n",
       "  <div id=\"df-a293628a-ca50-417b-a598-b50b6af20f99\" class=\"colab-df-container\">\n",
       "    <div>\n",
       "<style scoped>\n",
       "    .dataframe tbody tr th:only-of-type {\n",
       "        vertical-align: middle;\n",
       "    }\n",
       "\n",
       "    .dataframe tbody tr th {\n",
       "        vertical-align: top;\n",
       "    }\n",
       "\n",
       "    .dataframe thead th {\n",
       "        text-align: right;\n",
       "    }\n",
       "</style>\n",
       "<table border=\"1\" class=\"dataframe\">\n",
       "  <thead>\n",
       "    <tr style=\"text-align: right;\">\n",
       "      <th></th>\n",
       "      <th>Artist</th>\n",
       "      <th>Title</th>\n",
       "      <th>Album</th>\n",
       "      <th>Year</th>\n",
       "      <th>Date</th>\n",
       "      <th>Lyric</th>\n",
       "      <th>Tokenized_Lyrics</th>\n",
       "    </tr>\n",
       "  </thead>\n",
       "  <tbody>\n",
       "    <tr>\n",
       "      <th>0</th>\n",
       "      <td>Dua Lipa</td>\n",
       "      <td>New Rules</td>\n",
       "      <td>Dua Lipa</td>\n",
       "      <td>2017.0</td>\n",
       "      <td>2017-06-02</td>\n",
       "      <td>one one one one one   talkin' in my sleep at n...</td>\n",
       "      <td>[505, 530, 530, 530, 530, 220, 220, 1561, 259,...</td>\n",
       "    </tr>\n",
       "    <tr>\n",
       "      <th>1</th>\n",
       "      <td>Dua Lipa</td>\n",
       "      <td>Don’t Start Now</td>\n",
       "      <td>Future Nostalgia</td>\n",
       "      <td>2019.0</td>\n",
       "      <td>2019-11-01</td>\n",
       "      <td>if you don't wanna see me   did a full 80 craz...</td>\n",
       "      <td>[361, 345, 836, 470, 18869, 766, 502, 220, 220...</td>\n",
       "    </tr>\n",
       "  </tbody>\n",
       "</table>\n",
       "</div>\n",
       "    <div class=\"colab-df-buttons\">\n",
       "\n",
       "  <div class=\"colab-df-container\">\n",
       "    <button class=\"colab-df-convert\" onclick=\"convertToInteractive('df-a293628a-ca50-417b-a598-b50b6af20f99')\"\n",
       "            title=\"Convert this dataframe to an interactive table.\"\n",
       "            style=\"display:none;\">\n",
       "\n",
       "  <svg xmlns=\"http://www.w3.org/2000/svg\" height=\"24px\" viewBox=\"0 -960 960 960\">\n",
       "    <path d=\"M120-120v-720h720v720H120Zm60-500h600v-160H180v160Zm220 220h160v-160H400v160Zm0 220h160v-160H400v160ZM180-400h160v-160H180v160Zm440 0h160v-160H620v160ZM180-180h160v-160H180v160Zm440 0h160v-160H620v160Z\"/>\n",
       "  </svg>\n",
       "    </button>\n",
       "\n",
       "  <style>\n",
       "    .colab-df-container {\n",
       "      display:flex;\n",
       "      gap: 12px;\n",
       "    }\n",
       "\n",
       "    .colab-df-convert {\n",
       "      background-color: #E8F0FE;\n",
       "      border: none;\n",
       "      border-radius: 50%;\n",
       "      cursor: pointer;\n",
       "      display: none;\n",
       "      fill: #1967D2;\n",
       "      height: 32px;\n",
       "      padding: 0 0 0 0;\n",
       "      width: 32px;\n",
       "    }\n",
       "\n",
       "    .colab-df-convert:hover {\n",
       "      background-color: #E2EBFA;\n",
       "      box-shadow: 0px 1px 2px rgba(60, 64, 67, 0.3), 0px 1px 3px 1px rgba(60, 64, 67, 0.15);\n",
       "      fill: #174EA6;\n",
       "    }\n",
       "\n",
       "    .colab-df-buttons div {\n",
       "      margin-bottom: 4px;\n",
       "    }\n",
       "\n",
       "    [theme=dark] .colab-df-convert {\n",
       "      background-color: #3B4455;\n",
       "      fill: #D2E3FC;\n",
       "    }\n",
       "\n",
       "    [theme=dark] .colab-df-convert:hover {\n",
       "      background-color: #434B5C;\n",
       "      box-shadow: 0px 1px 3px 1px rgba(0, 0, 0, 0.15);\n",
       "      filter: drop-shadow(0px 1px 2px rgba(0, 0, 0, 0.3));\n",
       "      fill: #FFFFFF;\n",
       "    }\n",
       "  </style>\n",
       "\n",
       "    <script>\n",
       "      const buttonEl =\n",
       "        document.querySelector('#df-a293628a-ca50-417b-a598-b50b6af20f99 button.colab-df-convert');\n",
       "      buttonEl.style.display =\n",
       "        google.colab.kernel.accessAllowed ? 'block' : 'none';\n",
       "\n",
       "      async function convertToInteractive(key) {\n",
       "        const element = document.querySelector('#df-a293628a-ca50-417b-a598-b50b6af20f99');\n",
       "        const dataTable =\n",
       "          await google.colab.kernel.invokeFunction('convertToInteractive',\n",
       "                                                    [key], {});\n",
       "        if (!dataTable) return;\n",
       "\n",
       "        const docLinkHtml = 'Like what you see? Visit the ' +\n",
       "          '<a target=\"_blank\" href=https://colab.research.google.com/notebooks/data_table.ipynb>data table notebook</a>'\n",
       "          + ' to learn more about interactive tables.';\n",
       "        element.innerHTML = '';\n",
       "        dataTable['output_type'] = 'display_data';\n",
       "        await google.colab.output.renderOutput(dataTable, element);\n",
       "        const docLink = document.createElement('div');\n",
       "        docLink.innerHTML = docLinkHtml;\n",
       "        element.appendChild(docLink);\n",
       "      }\n",
       "    </script>\n",
       "  </div>\n",
       "\n",
       "\n",
       "<div id=\"df-9da36fff-dd11-441f-95cc-a83185d380ef\">\n",
       "  <button class=\"colab-df-quickchart\" onclick=\"quickchart('df-9da36fff-dd11-441f-95cc-a83185d380ef')\"\n",
       "            title=\"Suggest charts\"\n",
       "            style=\"display:none;\">\n",
       "\n",
       "<svg xmlns=\"http://www.w3.org/2000/svg\" height=\"24px\"viewBox=\"0 0 24 24\"\n",
       "     width=\"24px\">\n",
       "    <g>\n",
       "        <path d=\"M19 3H5c-1.1 0-2 .9-2 2v14c0 1.1.9 2 2 2h14c1.1 0 2-.9 2-2V5c0-1.1-.9-2-2-2zM9 17H7v-7h2v7zm4 0h-2V7h2v10zm4 0h-2v-4h2v4z\"/>\n",
       "    </g>\n",
       "</svg>\n",
       "  </button>\n",
       "\n",
       "<style>\n",
       "  .colab-df-quickchart {\n",
       "      --bg-color: #E8F0FE;\n",
       "      --fill-color: #1967D2;\n",
       "      --hover-bg-color: #E2EBFA;\n",
       "      --hover-fill-color: #174EA6;\n",
       "      --disabled-fill-color: #AAA;\n",
       "      --disabled-bg-color: #DDD;\n",
       "  }\n",
       "\n",
       "  [theme=dark] .colab-df-quickchart {\n",
       "      --bg-color: #3B4455;\n",
       "      --fill-color: #D2E3FC;\n",
       "      --hover-bg-color: #434B5C;\n",
       "      --hover-fill-color: #FFFFFF;\n",
       "      --disabled-bg-color: #3B4455;\n",
       "      --disabled-fill-color: #666;\n",
       "  }\n",
       "\n",
       "  .colab-df-quickchart {\n",
       "    background-color: var(--bg-color);\n",
       "    border: none;\n",
       "    border-radius: 50%;\n",
       "    cursor: pointer;\n",
       "    display: none;\n",
       "    fill: var(--fill-color);\n",
       "    height: 32px;\n",
       "    padding: 0;\n",
       "    width: 32px;\n",
       "  }\n",
       "\n",
       "  .colab-df-quickchart:hover {\n",
       "    background-color: var(--hover-bg-color);\n",
       "    box-shadow: 0 1px 2px rgba(60, 64, 67, 0.3), 0 1px 3px 1px rgba(60, 64, 67, 0.15);\n",
       "    fill: var(--button-hover-fill-color);\n",
       "  }\n",
       "\n",
       "  .colab-df-quickchart-complete:disabled,\n",
       "  .colab-df-quickchart-complete:disabled:hover {\n",
       "    background-color: var(--disabled-bg-color);\n",
       "    fill: var(--disabled-fill-color);\n",
       "    box-shadow: none;\n",
       "  }\n",
       "\n",
       "  .colab-df-spinner {\n",
       "    border: 2px solid var(--fill-color);\n",
       "    border-color: transparent;\n",
       "    border-bottom-color: var(--fill-color);\n",
       "    animation:\n",
       "      spin 1s steps(1) infinite;\n",
       "  }\n",
       "\n",
       "  @keyframes spin {\n",
       "    0% {\n",
       "      border-color: transparent;\n",
       "      border-bottom-color: var(--fill-color);\n",
       "      border-left-color: var(--fill-color);\n",
       "    }\n",
       "    20% {\n",
       "      border-color: transparent;\n",
       "      border-left-color: var(--fill-color);\n",
       "      border-top-color: var(--fill-color);\n",
       "    }\n",
       "    30% {\n",
       "      border-color: transparent;\n",
       "      border-left-color: var(--fill-color);\n",
       "      border-top-color: var(--fill-color);\n",
       "      border-right-color: var(--fill-color);\n",
       "    }\n",
       "    40% {\n",
       "      border-color: transparent;\n",
       "      border-right-color: var(--fill-color);\n",
       "      border-top-color: var(--fill-color);\n",
       "    }\n",
       "    60% {\n",
       "      border-color: transparent;\n",
       "      border-right-color: var(--fill-color);\n",
       "    }\n",
       "    80% {\n",
       "      border-color: transparent;\n",
       "      border-right-color: var(--fill-color);\n",
       "      border-bottom-color: var(--fill-color);\n",
       "    }\n",
       "    90% {\n",
       "      border-color: transparent;\n",
       "      border-bottom-color: var(--fill-color);\n",
       "    }\n",
       "  }\n",
       "</style>\n",
       "\n",
       "  <script>\n",
       "    async function quickchart(key) {\n",
       "      const quickchartButtonEl =\n",
       "        document.querySelector('#' + key + ' button');\n",
       "      quickchartButtonEl.disabled = true;  // To prevent multiple clicks.\n",
       "      quickchartButtonEl.classList.add('colab-df-spinner');\n",
       "      try {\n",
       "        const charts = await google.colab.kernel.invokeFunction(\n",
       "            'suggestCharts', [key], {});\n",
       "      } catch (error) {\n",
       "        console.error('Error during call to suggestCharts:', error);\n",
       "      }\n",
       "      quickchartButtonEl.classList.remove('colab-df-spinner');\n",
       "      quickchartButtonEl.classList.add('colab-df-quickchart-complete');\n",
       "    }\n",
       "    (() => {\n",
       "      let quickchartButtonEl =\n",
       "        document.querySelector('#df-9da36fff-dd11-441f-95cc-a83185d380ef button');\n",
       "      quickchartButtonEl.style.display =\n",
       "        google.colab.kernel.accessAllowed ? 'block' : 'none';\n",
       "    })();\n",
       "  </script>\n",
       "</div>\n",
       "\n",
       "    </div>\n",
       "  </div>\n"
      ],
      "text/plain": [
       "     Artist            Title             Album    Year        Date  \\\n",
       "0  Dua Lipa        New Rules          Dua Lipa  2017.0  2017-06-02   \n",
       "1  Dua Lipa  Don’t Start Now  Future Nostalgia  2019.0  2019-11-01   \n",
       "\n",
       "                                               Lyric  \\\n",
       "0  one one one one one   talkin' in my sleep at n...   \n",
       "1  if you don't wanna see me   did a full 80 craz...   \n",
       "\n",
       "                                    Tokenized_Lyrics  \n",
       "0  [505, 530, 530, 530, 530, 220, 220, 1561, 259,...  \n",
       "1  [361, 345, 836, 470, 18869, 766, 502, 220, 220...  "
      ]
     },
     "execution_count": 7,
     "metadata": {},
     "output_type": "execute_result"
    }
   ],
   "source": [
    "df.head(2)"
   ]
  },
  {
   "cell_type": "code",
   "execution_count": 8,
   "id": "c1322683-5359-4d7c-afe0-596b773d2032",
   "metadata": {
    "id": "c1322683-5359-4d7c-afe0-596b773d2032"
   },
   "outputs": [],
   "source": [
    "def convert_tokens_str_to_list(tokens_str):\n",
    "    if pd.isna(tokens_str) or tokens_str == '[]':\n",
    "        return []\n",
    "    try:\n",
    "        tokens_str = tokens_str.strip('[]')\n",
    "        if not tokens_str:\n",
    "            return []\n",
    "        return [int(token) for token in tokens_str.split(',')]\n",
    "    except:\n",
    "        return []"
   ]
  },
  {
   "cell_type": "code",
   "execution_count": 9,
   "id": "d36d9b5c-118e-4b46-ba5a-2ae6ebc5bd0c",
   "metadata": {
    "colab": {
     "base_uri": "https://localhost:8080/"
    },
    "id": "d36d9b5c-118e-4b46-ba5a-2ae6ebc5bd0c",
    "outputId": "ecbc56ec-71cf-4ecb-ef0d-a246eada27ef"
   },
   "outputs": [
    {
     "name": "stdout",
     "output_type": "stream",
     "text": [
      "Converting tokenized strings to token lists...\n"
     ]
    }
   ],
   "source": [
    "print(\"Converting tokenized strings to token lists...\")\n",
    "df['Tokenized_Lyrics'] = df['Tokenized_Lyrics'].apply(convert_tokens_str_to_list)"
   ]
  },
  {
   "cell_type": "code",
   "execution_count": 10,
   "id": "AqOrVRfS14pZ",
   "metadata": {
    "colab": {
     "base_uri": "https://localhost:8080/"
    },
    "id": "AqOrVRfS14pZ",
    "outputId": "1811f491-d9f7-4927-b145-11fee2a3a909"
   },
   "outputs": [
    {
     "data": {
      "text/plain": [
       "list"
      ]
     },
     "execution_count": 10,
     "metadata": {},
     "output_type": "execute_result"
    }
   ],
   "source": [
    "type(df['Tokenized_Lyrics'].iloc[1])"
   ]
  },
  {
   "cell_type": "code",
   "execution_count": 35,
   "id": "2c26e1aa-066b-4f31-b5fa-8950c1c6c261",
   "metadata": {
    "id": "2c26e1aa-066b-4f31-b5fa-8950c1c6c261"
   },
   "outputs": [],
   "source": [
    "class LyricsDataset(Dataset):\n",
    "    def __init__(self, token_lists, max_length=1024):\n",
    "        self.token_lists = token_lists\n",
    "        self.max_length = max_length\n",
    "\n",
    "    def __len__(self):\n",
    "        return len(self.token_lists)\n",
    "\n",
    "    def __getitem__(self, idx):\n",
    "        tokens = self.token_lists[idx]\n",
    "\n",
    "        if len(tokens) > self.max_length:\n",
    "            tokens = tokens[:self.max_length]\n",
    "        attention_mask = [1] * len(tokens)\n",
    "\n",
    "        padding_length = self.max_length - len(tokens)\n",
    "        if padding_length > 0:\n",
    "            tokens = tokens + [0] * padding_length  # 0 is usually the pad token ID\n",
    "            attention_mask = attention_mask + [0] * padding_length\n",
    "\n",
    "        tokens_tensor = torch.tensor(tokens, dtype=torch.long)\n",
    "        mask_tensor = torch.tensor(attention_mask, dtype=torch.long)\n",
    "\n",
    "        return {\"input_ids\": tokens_tensor, \"attention_mask\": mask_tensor}"
   ]
  },
  {
   "cell_type": "code",
   "execution_count": 36,
   "id": "l5QeKNwF2L5P",
   "metadata": {
    "colab": {
     "base_uri": "https://localhost:8080/"
    },
    "id": "l5QeKNwF2L5P",
    "outputId": "26bb27e1-d9c9-4b93-bff3-5cc49a527656"
   },
   "outputs": [
    {
     "name": "stdout",
     "output_type": "stream",
     "text": [
      "Training set: 5424 songs\n",
      "Validation set: 603 songs\n"
     ]
    }
   ],
   "source": [
    "train_data, val_data = train_test_split(df['Tokenized_Lyrics'].tolist(), test_size=0.1, random_state=42)\n",
    "print(f\"Training set: {len(train_data)} songs\")\n",
    "print(f\"Validation set: {len(val_data)} songs\")"
   ]
  },
  {
   "cell_type": "code",
   "execution_count": 37,
   "id": "j0DvyN152Noh",
   "metadata": {
    "colab": {
     "base_uri": "https://localhost:8080/"
    },
    "id": "j0DvyN152Noh",
    "outputId": "901fa65f-db1d-42d3-a1ae-a81847dc28f0"
   },
   "outputs": [
    {
     "name": "stdout",
     "output_type": "stream",
     "text": [
      "124\n",
      "558\n",
      "440\n",
      "263\n",
      "529\n",
      "984\n",
      "21\n",
      "119\n",
      "532\n",
      "759\n",
      "401\n",
      "19\n",
      "1024\n",
      "294\n",
      "406\n",
      "47\n",
      "448\n",
      "120\n",
      "398\n",
      "303\n",
      "411\n",
      "577\n",
      "549\n",
      "605\n",
      "190\n",
      "394\n",
      "538\n",
      "646\n",
      "46\n",
      "69\n",
      "811\n",
      "924\n",
      "3\n",
      "85\n",
      "644\n",
      "3\n",
      "472\n",
      "760\n",
      "220\n",
      "288\n",
      "496\n",
      "19\n",
      "780\n",
      "413\n",
      "340\n",
      "19\n",
      "648\n",
      "203\n",
      "374\n",
      "525\n"
     ]
    }
   ],
   "source": [
    "for i in range(50):\n",
    "  print(len(train_data[i]))"
   ]
  },
  {
   "cell_type": "code",
   "execution_count": 38,
   "id": "xo1cHPjJ30PJ",
   "metadata": {
    "id": "xo1cHPjJ30PJ"
   },
   "outputs": [],
   "source": [
    "train_dataset = LyricsDataset(train_data)\n",
    "val_dataset = LyricsDataset(val_data)"
   ]
  },
  {
   "cell_type": "code",
   "execution_count": 39,
   "id": "9D24LysAIH_z",
   "metadata": {
    "id": "9D24LysAIH_z"
   },
   "outputs": [],
   "source": [
    "batch_size = 4 \n",
    "train_dataloader = DataLoader(train_dataset, batch_size=batch_size, shuffle=True)\n",
    "val_dataloader = DataLoader(val_dataset, batch_size=batch_size)"
   ]
  },
  {
   "cell_type": "code",
   "execution_count": 40,
   "id": "SMj7e4heJTIV",
   "metadata": {
    "colab": {
     "base_uri": "https://localhost:8080/"
    },
    "id": "SMj7e4heJTIV",
    "outputId": "7d1fe17e-c565-479a-f39c-017978b6fae1"
   },
   "outputs": [
    {
     "data": {
      "text/plain": [
       "GPT2LMHeadModel(\n",
       "  (transformer): GPT2Model(\n",
       "    (wte): Embedding(50257, 768)\n",
       "    (wpe): Embedding(1024, 768)\n",
       "    (drop): Dropout(p=0.1, inplace=False)\n",
       "    (h): ModuleList(\n",
       "      (0-11): 12 x GPT2Block(\n",
       "        (ln_1): LayerNorm((768,), eps=1e-05, elementwise_affine=True)\n",
       "        (attn): GPT2Attention(\n",
       "          (c_attn): Conv1D(nf=2304, nx=768)\n",
       "          (c_proj): Conv1D(nf=768, nx=768)\n",
       "          (attn_dropout): Dropout(p=0.1, inplace=False)\n",
       "          (resid_dropout): Dropout(p=0.1, inplace=False)\n",
       "        )\n",
       "        (ln_2): LayerNorm((768,), eps=1e-05, elementwise_affine=True)\n",
       "        (mlp): GPT2MLP(\n",
       "          (c_fc): Conv1D(nf=3072, nx=768)\n",
       "          (c_proj): Conv1D(nf=768, nx=3072)\n",
       "          (act): NewGELUActivation()\n",
       "          (dropout): Dropout(p=0.1, inplace=False)\n",
       "        )\n",
       "      )\n",
       "    )\n",
       "    (ln_f): LayerNorm((768,), eps=1e-05, elementwise_affine=True)\n",
       "  )\n",
       "  (lm_head): Linear(in_features=768, out_features=50257, bias=False)\n",
       ")"
      ]
     },
     "execution_count": 40,
     "metadata": {},
     "output_type": "execute_result"
    }
   ],
   "source": [
    "model_name = \"gpt2\" \n",
    "tokenizer = GPT2Tokenizer.from_pretrained(model_name)\n",
    "model = GPT2LMHeadModel.from_pretrained(model_name)\n",
    "model.to(device)"
   ]
  },
  {
   "cell_type": "code",
   "execution_count": 41,
   "id": "C7_lG41TK1Ee",
   "metadata": {
    "id": "C7_lG41TK1Ee"
   },
   "outputs": [],
   "source": [
    "optimizer = AdamW(model.parameters(), lr=5e-5)\n",
    "total_steps = len(train_dataloader) * 3  # 3 epochs\n",
    "scheduler = get_linear_schedule_with_warmup(\n",
    "    optimizer,\n",
    "    num_warmup_steps=0,\n",
    "    num_training_steps=total_steps\n",
    ")"
   ]
  },
  {
   "cell_type": "code",
   "execution_count": 43,
   "id": "F1DT6oCv4FsV",
   "metadata": {
    "id": "F1DT6oCv4FsV"
   },
   "outputs": [],
   "source": [
    "def train_epoch(model, dataloader, optimizer, scheduler):\n",
    "    model.train()\n",
    "    total_loss = 0\n",
    "\n",
    "    progress_bar = tqdm(dataloader, desc=\"Training\")\n",
    "    for batch in progress_bar:\n",
    "        input_ids = batch[\"input_ids\"].to(device)\n",
    "        attention_mask = batch[\"attention_mask\"].to(device)\n",
    "\n",
    "        outputs = model(input_ids, attention_mask=attention_mask, labels=input_ids)\n",
    "        loss = outputs.loss\n",
    "\n",
    "        optimizer.zero_grad()\n",
    "        loss.backward()\n",
    "        torch.nn.utils.clip_grad_norm_(model.parameters(), 1.0)\n",
    "        optimizer.step()\n",
    "        scheduler.step()\n",
    "\n",
    "        total_loss += loss.item()\n",
    "        progress_bar.set_postfix({\"loss\": loss.item()})\n",
    "\n",
    "    return total_loss / len(dataloader)"
   ]
  },
  {
   "cell_type": "code",
   "execution_count": 44,
   "id": "AR9N-7Ll43OI",
   "metadata": {
    "id": "AR9N-7Ll43OI"
   },
   "outputs": [],
   "source": [
    "def evaluate(model, dataloader):\n",
    "    model.eval()\n",
    "    total_loss = 0\n",
    "\n",
    "    with torch.no_grad():\n",
    "        for batch in tqdm(dataloader, desc=\"Evaluating\"):\n",
    "            input_ids = batch[\"input_ids\"].to(device)\n",
    "            attention_mask = batch[\"attention_mask\"].to(device)\n",
    "\n",
    "            outputs = model(input_ids, attention_mask=attention_mask, labels=input_ids)\n",
    "            loss = outputs.loss\n",
    "            total_loss += loss.item()\n",
    "\n",
    "    return total_loss / len(dataloader)"
   ]
  },
  {
   "cell_type": "code",
   "execution_count": 45,
   "id": "aasvcn6-4Nby",
   "metadata": {
    "id": "aasvcn6-4Nby"
   },
   "outputs": [],
   "source": [
    "output_dir = \"fine_tuned_gpt2_lyrics\"\n",
    "os.makedirs(output_dir, exist_ok=True)"
   ]
  },
  {
   "cell_type": "code",
   "execution_count": 46,
   "id": "AHleciNz4Pi3",
   "metadata": {
    "id": "AHleciNz4Pi3"
   },
   "outputs": [],
   "source": [
    "num_epochs = 3\n",
    "best_val_loss = float('inf')"
   ]
  },
  {
   "cell_type": "code",
   "execution_count": 47,
   "id": "qPGfKnRn4To9",
   "metadata": {
    "colab": {
     "base_uri": "https://localhost:8080/"
    },
    "id": "qPGfKnRn4To9",
    "outputId": "d020cc03-436a-4076-f699-13c103196996"
   },
   "outputs": [
    {
     "metadata": {
      "tags": null
     },
     "name": "stdout",
     "output_type": "stream",
     "text": [
      "Starting training...\n",
      "Epoch 1/3\n"
     ]
    },
    {
     "metadata": {
      "tags": null
     },
     "name": "stderr",
     "output_type": "stream",
     "text": [
      "Training:   0%|          | 0/1356 [00:00<?, ?it/s]`loss_type=None` was set in the config but it is unrecognised.Using the default loss: `ForCausalLMLoss`.\n",
      "Training: 100%|██████████| 1356/1356 [31:40<00:00,  1.40s/it, loss=1.23]\n"
     ]
    },
    {
     "metadata": {
      "tags": null
     },
     "name": "stdout",
     "output_type": "stream",
     "text": [
      "Train loss: 1.2754\n"
     ]
    },
    {
     "metadata": {
      "tags": null
     },
     "name": "stderr",
     "output_type": "stream",
     "text": [
      "Evaluating: 100%|██████████| 151/151 [00:58<00:00,  2.58it/s]\n"
     ]
    },
    {
     "metadata": {
      "tags": null
     },
     "name": "stdout",
     "output_type": "stream",
     "text": [
      "Validation loss: 1.1244\n",
      "Model saved to fine_tuned_gpt2_lyrics/model_epoch_1\n",
      "Epoch 2/3\n"
     ]
    },
    {
     "metadata": {
      "tags": null
     },
     "name": "stderr",
     "output_type": "stream",
     "text": [
      "Training: 100%|██████████| 1356/1356 [31:50<00:00,  1.41s/it, loss=1.8]\n"
     ]
    },
    {
     "metadata": {
      "tags": null
     },
     "name": "stdout",
     "output_type": "stream",
     "text": [
      "Train loss: 1.1652\n"
     ]
    },
    {
     "metadata": {
      "tags": null
     },
     "name": "stderr",
     "output_type": "stream",
     "text": [
      "Evaluating: 100%|██████████| 151/151 [00:58<00:00,  2.58it/s]\n"
     ]
    },
    {
     "metadata": {
      "tags": null
     },
     "name": "stdout",
     "output_type": "stream",
     "text": [
      "Validation loss: 1.0970\n",
      "Model saved to fine_tuned_gpt2_lyrics/model_epoch_2\n",
      "Epoch 3/3\n"
     ]
    },
    {
     "name": "stderr",
     "output_type": "stream",
     "text": [
      "Training: 100%|██████████| 1356/1356 [31:48<00:00,  1.41s/it, loss=0.697]\n"
     ]
    },
    {
     "name": "stdout",
     "output_type": "stream",
     "text": [
      "Train loss: 1.1289\n"
     ]
    },
    {
     "name": "stderr",
     "output_type": "stream",
     "text": [
      "Evaluating: 100%|██████████| 151/151 [00:58<00:00,  2.59it/s]\n"
     ]
    },
    {
     "name": "stdout",
     "output_type": "stream",
     "text": [
      "Validation loss: 1.0880\n",
      "Model saved to fine_tuned_gpt2_lyrics/model_epoch_3\n",
      "Training complete!\n"
     ]
    }
   ],
   "source": [
    "print(\"Starting training...\")\n",
    "for epoch in range(num_epochs):\n",
    "    print(f\"Epoch {epoch + 1}/{num_epochs}\")\n",
    "\n",
    "    # Train\n",
    "    train_loss = train_epoch(model, train_dataloader, optimizer, scheduler)\n",
    "    print(f\"Train loss: {train_loss:.4f}\")\n",
    "\n",
    "    # Evaluate\n",
    "    val_loss = evaluate(model, val_dataloader)\n",
    "    print(f\"Validation loss: {val_loss:.4f}\")\n",
    "\n",
    "    # Save model\n",
    "    if val_loss < best_val_loss:\n",
    "        best_val_loss = val_loss\n",
    "        # Save model\n",
    "        model_path = os.path.join(output_dir, f\"model_epoch_{epoch+1}\")\n",
    "        model.save_pretrained(model_path)\n",
    "        tokenizer.save_pretrained(model_path)\n",
    "        print(f\"Model saved to {model_path}\")\n",
    "\n",
    "print(\"Training complete!\")"
   ]
  },
  {
   "cell_type": "code",
   "execution_count": 39,
   "id": "_kcq6v2V4XUA",
   "metadata": {
    "id": "_kcq6v2V4XUA"
   },
   "outputs": [],
   "source": [
    "def generate_lyrics(model, tokenizer, prompt=\"\", max_length=100, temperature=0.78):\n",
    "    model.eval()\n",
    "\n",
    "    full_prompt = f\"{prompt}\"\n",
    "\n",
    "    input_ids = tokenizer.encode(full_prompt, return_tensors=\"pt\").to(\"cpu\")\n",
    "\n",
    "    output = model.generate(\n",
    "        input_ids,\n",
    "        max_length=max_length,\n",
    "        temperature=temperature,\n",
    "        top_k=50,\n",
    "        top_p=0.90,\n",
    "        repetition_penalty=1.2,\n",
    "        do_sample=True,\n",
    "        pad_token_id=tokenizer.eos_token_id\n",
    "    )\n",
    "\n",
    "    generated_text = tokenizer.decode(output[0], skip_special_tokens=True)\n",
    "    return generated_text"
   ]
  },
  {
   "cell_type": "code",
   "execution_count": 1,
   "id": "nhMIJnIsP_rR",
   "metadata": {
    "id": "nhMIJnIsP_rR"
   },
   "outputs": [],
   "source": [
    "# from google.colab import drive\n",
    "# drive.mount('/content/drive')"
   ]
  },
  {
   "cell_type": "code",
   "execution_count": 3,
   "id": "djZyj3fqPjd8",
   "metadata": {
    "colab": {
     "base_uri": "https://localhost:8080/"
    },
    "id": "djZyj3fqPjd8",
    "outputId": "5a143b2f-72a8-4d90-c156-9dd0e4157af8"
   },
   "outputs": [],
   "source": [
    "# !zip -r /content/fine_tuned_gpt2_lyrics.zip /content/fine_tuned_gpt2_lyrics"
   ]
  },
  {
   "cell_type": "code",
   "execution_count": 3,
   "id": "70f90f6f-e122-403a-b9b8-d88fa02491b9",
   "metadata": {},
   "outputs": [],
   "source": [
    "import os\n",
    "import pandas as pd\n",
    "import numpy as np\n",
    "import torch\n",
    "from torch.utils.data import Dataset, DataLoader\n",
    "from transformers import GPT2Tokenizer, GPT2LMHeadModel, AdamW, get_linear_schedule_with_warmup\n",
    "from tqdm import tqdm\n",
    "import os\n",
    "from sklearn.model_selection import train_test_split"
   ]
  },
  {
   "cell_type": "code",
   "execution_count": 47,
   "id": "960439ca-2809-4d94-8ce4-b115027e752e",
   "metadata": {},
   "outputs": [],
   "source": [
    "import time\n",
    "\n",
    "def type_words(sentence, delay=0.3):\n",
    "    \n",
    "    words = sentence.split()\n",
    "    for i, word in enumerate(words):\n",
    "        print(word, end=' ', flush=True)\n",
    "        if i < len(words) - 1:\n",
    "            time.sleep(delay)\n",
    "    print()\n"
   ]
  },
  {
   "cell_type": "code",
   "execution_count": 72,
   "id": "05e5e120-f53e-4572-97b0-ce1a548c43a2",
   "metadata": {},
   "outputs": [
    {
     "name": "stdin",
     "output_type": "stream",
     "text": [
      "Enter your song lyrics :  this is crazy and amazing feeling being with you\n"
     ]
    },
    {
     "name": "stdout",
     "output_type": "stream",
     "text": [
      "\n",
      "Generating sample lyrics:\n",
      "this is crazy and amazing feeling being with you in the light of your own life i can't help but wonder if we could do this pre a girl like me would never leave us alone so let's just be ourselves baby keep loving yourself until it comes around to waking up at night oh yeah well don tell that story all through 'til she wakes from her dream then wake him out again take one look inside his head now he wants more too much no matter what happens after they get together boy why \n",
      "--------------------------------------------------\n"
     ]
    }
   ],
   "source": [
    "model_path = f\"./content/fine_tuned_gpt2_lyrics/model_epoch_3\"\n",
    "if os.path.exists(model_path):\n",
    "    fine_tuned_model = GPT2LMHeadModel.from_pretrained(model_path).to(\"cpu\")\n",
    "    fine_tuned_tokenizer = GPT2Tokenizer.from_pretrained(model_path)\n",
    "\n",
    "    prompt = input(\"Enter your song lyrics : \")\n",
    "    \n",
    "    print(\"\\nGenerating sample lyrics:\")\n",
    "    generated = generate_lyrics(fine_tuned_model, fine_tuned_tokenizer, prompt)\n",
    "    type_words(generated)\n",
    "\n",
    "    print(\"-\" * 50)"
   ]
  },
  {
   "cell_type": "code",
   "execution_count": null,
   "id": "593c1cf6-7958-4b42-b8ea-a7f48c4db331",
   "metadata": {},
   "outputs": [],
   "source": []
  }
 ],
 "metadata": {
  "accelerator": "GPU",
  "colab": {
   "gpuType": "T4",
   "provenance": []
  },
  "kernelspec": {
   "display_name": "Python 3 (ipykernel)",
   "language": "python",
   "name": "python3"
  },
  "language_info": {
   "codemirror_mode": {
    "name": "ipython",
    "version": 3
   },
   "file_extension": ".py",
   "mimetype": "text/x-python",
   "name": "python",
   "nbconvert_exporter": "python",
   "pygments_lexer": "ipython3",
   "version": "3.12.2"
  }
 },
 "nbformat": 4,
 "nbformat_minor": 5
}
