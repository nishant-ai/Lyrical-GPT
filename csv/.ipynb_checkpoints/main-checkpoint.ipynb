{
 "cells": [
  {
   "cell_type": "code",
   "execution_count": null,
   "id": "5822df28-c0cd-47e5-8c7a-5f0d14db5b28",
   "metadata": {},
   "outputs": [],
   "source": [
    "import pandas as pd\n",
    "import glob\n",
    "import os\n",
    "\n",
    "# Set the folder path where your CSVs are located\n",
    "folder_path = \"./\"  # Change this to your folder path\n",
    "\n",
    "# Get all CSV file paths in the folder\n",
    "csv_files = glob.glob(os.path.join(folder_path, \"*.csv\"))\n",
    "\n",
    "# Read and concatenate all CSVs\n",
    "all_text = []\n",
    "\n",
    "for file in csv_files:\n",
    "    df = pd.read_csv(file, header=None)  # Read without headers\n",
    "    all_text.append(df.to_string(index=False, header=False))  # Convert to string and append\n",
    "\n",
    "# Merge all text into a single cell\n",
    "merged_text = \"\\n\".join(all_text)\n",
    "\n",
    "# Save the merged text as a single-row CSV\n",
    "output_df = pd.DataFrame([merged_text])\n",
    "output_df.to_csv(\"merged_lyrics.csv\", index=False, header=False)\n",
    "\n",
    "print(\"Merged CSV created: merged_lyrics.csv\")"
   ]
  }
 ],
 "metadata": {
  "kernelspec": {
   "display_name": "Python 3 (ipykernel)",
   "language": "python",
   "name": "python3"
  },
  "language_info": {
   "codemirror_mode": {
    "name": "ipython",
    "version": 3
   },
   "file_extension": ".py",
   "mimetype": "text/x-python",
   "name": "python",
   "nbconvert_exporter": "python",
   "pygments_lexer": "ipython3",
   "version": "3.12.2"
  }
 },
 "nbformat": 4,
 "nbformat_minor": 5
}
